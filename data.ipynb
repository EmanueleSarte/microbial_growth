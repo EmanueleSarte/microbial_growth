{
 "cells": [
  {
   "cell_type": "code",
   "execution_count": null,
   "metadata": {},
   "outputs": [],
   "source": [
    "import pandas as pd\n",
    "import numpy as np\n",
    "import matplotlib.pyplot as plt\n",
    "import seaborn as sns\n",
    "from util_funs import filter_data"
   ]
  },
  {
   "cell_type": "code",
   "execution_count": null,
   "metadata": {},
   "outputs": [],
   "source": [
    "tanouchi25c_set = pd.read_csv(\"./dataset/Tanouchi25C.csv\")\n",
    "tanouchi37c_set = pd.read_csv(\"./dataset/Tanouchi37C.csv\")\n",
    "susman18_set = pd.read_csv(\"./dataset/Susman18_physical_units.csv\")\n",
    "tanouchi25c_set.df_name = \"tanouchi25c\"\n",
    "tanouchi37c_set.df_name = \"tanouchi37c\"\n",
    "susman18_set.df_name = \"susman18\"\n",
    "\n",
    "df = susman18_set\n",
    "\n",
    "df.describe()"
   ]
  },
  {
   "cell_type": "code",
   "execution_count": null,
   "metadata": {},
   "outputs": [],
   "source": [
    "columns = [\"division_ratio\", \"generationtime\", \"length_birth\", \"length_final\", \"growth_rate\"]\n",
    "# df[columns].describe(percentiles=[0.01, 0.25, 0.5, 0.75, 0.99])"
   ]
  },
  {
   "cell_type": "code",
   "execution_count": null,
   "metadata": {},
   "outputs": [],
   "source": [
    "# df_result, df_dropped = filter_data(df, filter_cols=[\"growth_rate\"], analyze_cols=columns)\n",
    "df_result, df_dropped = filter_data(df, filter_cols=[\"growth_rate\"])\n",
    "\n",
    "print(\"FILTERED DATASET:\")\n",
    "df_result.describe()"
   ]
  }
 ],
 "metadata": {
  "kernelspec": {
   "display_name": "venv",
   "language": "python",
   "name": "python3"
  },
  "language_info": {
   "codemirror_mode": {
    "name": "ipython",
    "version": 3
   },
   "file_extension": ".py",
   "mimetype": "text/x-python",
   "name": "python",
   "nbconvert_exporter": "python",
   "pygments_lexer": "ipython3",
   "version": "3.10.0"
  },
  "orig_nbformat": 4
 },
 "nbformat": 4,
 "nbformat_minor": 2
}
