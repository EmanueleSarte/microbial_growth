{
 "cells": [
  {
   "cell_type": "code",
   "execution_count": null,
   "metadata": {},
   "outputs": [],
   "source": [
    "import pandas as pd\n",
    "import numpy as np\n",
    "import matplotlib.pyplot as plt\n",
    "import seaborn as sns\n",
    "from util_funs import filter_data"
   ]
  },
  {
   "cell_type": "code",
   "execution_count": null,
   "metadata": {},
   "outputs": [],
   "source": [
    "tanouchi25c_set = pd.read_csv(\"./dataset/Tanouchi25C.csv\")\n",
    "tanouchi37c_set = pd.read_csv(\"./dataset/Tanouchi37C.csv\")\n",
    "susman18_set = pd.read_csv(\"./dataset/Susman18_physical_units.csv\")\n",
    "tanouchi25c_set.df_name = \"tanouchi25c\"\n",
    "tanouchi37c_set.df_name = \"tanouchi37c\"\n",
    "susman18_set.df_name = \"susman18\"\n",
    "\n",
    "df = susman18_set\n",
    "\n",
    "df.head(10)\n",
    "df.tail(10)"
   ]
  },
  {
   "cell_type": "code",
   "execution_count": null,
   "metadata": {},
   "outputs": [],
   "source": [
    "columns = [\"division_ratio\", \"generationtime\", \"length_birth\", \"length_final\", \"growth_rate\"]\n",
    "# df[columns].describe(percentiles=[0.01, 0.25, 0.5, 0.75, 0.99])"
   ]
  },
  {
   "cell_type": "code",
   "execution_count": null,
   "metadata": {},
   "outputs": [],
   "source": [
    "df_result, df_dropped = filter_data(df, filter_cols=[\"growth_rate\"], analyze_cols=columns)\n",
    "# df_result, df_dropped = filter_data(df, filter_cols=[\"growth_rate\"])\n",
    "\n",
    "print(\"FILTERED DATASET:\")\n",
    "# df_result.describe()"
   ]
  },
  {
   "cell_type": "code",
   "execution_count": null,
   "metadata": {},
   "outputs": [],
   "source": [
    "df_result[df_result['lineage_ID'] == 2.0]"
   ]
  },
  {
   "cell_type": "code",
   "execution_count": null,
   "metadata": {},
   "outputs": [],
   "source": []
  },
  {
   "cell_type": "code",
   "execution_count": null,
   "metadata": {},
   "outputs": [],
   "source": []
  },
  {
   "cell_type": "code",
   "execution_count": null,
   "metadata": {},
   "outputs": [],
   "source": []
  },
  {
   "cell_type": "code",
   "execution_count": null,
   "metadata": {},
   "outputs": [],
   "source": []
  },
  {
   "cell_type": "code",
   "execution_count": null,
   "metadata": {},
   "outputs": [],
   "source": []
  },
  {
   "cell_type": "code",
   "execution_count": null,
   "metadata": {},
   "outputs": [],
   "source": []
  },
  {
   "cell_type": "code",
   "execution_count": null,
   "metadata": {},
   "outputs": [],
   "source": []
  },
  {
   "cell_type": "code",
   "execution_count": null,
   "metadata": {},
   "outputs": [],
   "source": [
    "df[\"growth_rate\"].sort_values(ascending=False)\n",
    "df[df[\"growth_rate\"] > 1]\n",
    "# df[4018:4025]"
   ]
  },
  {
   "cell_type": "code",
   "execution_count": null,
   "metadata": {},
   "outputs": [],
   "source": [
    "# df.describe()"
   ]
  },
  {
   "cell_type": "code",
   "execution_count": null,
   "metadata": {},
   "outputs": [],
   "source": [
    "\n",
    "# for (lin_id, ), df_by in df.groupby([\"lineage_ID\"]):\n",
    "#     print(lin_id)\n",
    "#     display(df_by.describe())\n",
    "\n",
    "dfpp = df[[\"growth_rate\", \"division_ratio\", \"length_final\", \"length_birth\"]].copy()\n",
    "dfpp = dfpp.drop(dfpp[dfpp.growth_rate > 1].index)\n",
    "\n",
    "\n",
    "# dfpp[\"length_final_1\"] = dfpp[\"length_final\"].shift(1)\n",
    "# dfpp[\"growth_rate_1\"] = dfpp[\"growth_rate\"].shift(1)\n",
    "\n",
    "dfpp.head(5)\n",
    "\n",
    "# print(dfpp.columns)\n",
    "# dfpp = dfpp.drop([\"length_final\", \"growth_rate\"], axis=1)\n",
    "\n",
    "\n",
    "sns.pairplot(dfpp)\n",
    "\n",
    "# # dfpp.outl"
   ]
  },
  {
   "cell_type": "code",
   "execution_count": null,
   "metadata": {},
   "outputs": [],
   "source": [
    "for var in [\"growth_rate\", \"division_ratio\"]:\n",
    "    cond = df[var] > 1\n",
    "\n",
    "    display(df[cond])\n",
    "\n",
    "    dfpp = df[[var]].copy()\n",
    "    dfpp = dfpp.drop(dfpp[cond].index)\n",
    "\n",
    "    for i in range(5):\n",
    "        dfpp[f\"{var}_{i+1}\"] = dfpp[[var]].shift(i + 1)\n",
    "        # dfpp[\"growth_rate_1\"] = dfpp[\"growth_rate\"].shift(1)\n",
    "\n",
    "    display(dfpp.head(10))\n",
    "\n",
    "    sns.pairplot(dfpp);\n",
    "\n",
    "# print(dfpp.columns)\n",
    "# dfpp = dfpp.drop([\"length_final\", \"growth_rate\"], axis=1)"
   ]
  },
  {
   "cell_type": "code",
   "execution_count": null,
   "metadata": {},
   "outputs": [],
   "source": [
    "from scipy import stats\n",
    "\n",
    "# fit_alpha, fit_loc, fit_beta=stats.gamma.fit(df[\"growth_rate\"])\n",
    "# params=stats.norm.fit(df[\"growth_rate\"][:4000])\n",
    "params=stats.beta.fit(df[\"growth_rate\"][:4000])\n",
    "print(params)"
   ]
  },
  {
   "cell_type": "code",
   "execution_count": null,
   "metadata": {},
   "outputs": [],
   "source": [
    "# data = stats.gamma.rvs(fit_alpha, loc=fit_loc, scale=fit_beta, size=10000)\n",
    "x = np.linspace(0.34, 1.4, 10000)\n",
    "# y = stats.norm.pdf(x, params[0], params[1])\n",
    "y = stats.beta.pdf(x, *params)\n",
    "# a = 104\n",
    "# b = 0.007\n",
    "# y = stats.gamma.pdf(x, a=a, scale=b)\n",
    "\n",
    "plt.plot(x, y)\n",
    "plt.hist(df[\"growth_rate\"][:4000], density=True, bins=300);\n",
    "# plt.xlim(0, 1)"
   ]
  },
  {
   "cell_type": "code",
   "execution_count": null,
   "metadata": {},
   "outputs": [],
   "source": [
    "foo = tanouchi25c_set[[\"start_time\", \"length_birth\"]].values\n",
    "bar = tanouchi25c_set[[\"end_time\", \"length_final\"]].values\n",
    "c = np.zeros(shape=(foo.shape[0] + foo.shape[0], 2), dtype=foo.dtype)\n",
    "c[0::2, :] = foo\n",
    "c[1::2, :] = bar\n",
    "max_values = 40\n",
    "plt.plot(c[:max_values, 0], c[:max_values, 1])"
   ]
  }
 ],
 "metadata": {
  "kernelspec": {
   "display_name": "venv",
   "language": "python",
   "name": "python3"
  },
  "language_info": {
   "codemirror_mode": {
    "name": "ipython",
    "version": 3
   },
   "file_extension": ".py",
   "mimetype": "text/x-python",
   "name": "python",
   "nbconvert_exporter": "python",
   "pygments_lexer": "ipython3",
   "version": "3.10.0"
  },
  "orig_nbformat": 4
 },
 "nbformat": 4,
 "nbformat_minor": 2
}
